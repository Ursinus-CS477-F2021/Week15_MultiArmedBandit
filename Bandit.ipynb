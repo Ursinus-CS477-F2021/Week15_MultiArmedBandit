{
 "cells": [
  {
   "cell_type": "code",
   "execution_count": null,
   "id": "09c30639",
   "metadata": {},
   "outputs": [],
   "source": [
    "%load_ext autoreload\n",
    "%autoreload 2\n",
    "import numpy as np\n",
    "import matplotlib.pyplot as plt\n",
    "import seaborn as sns\n",
    "from bandit import *"
   ]
  },
  {
   "cell_type": "code",
   "execution_count": null,
   "id": "8f687d56",
   "metadata": {},
   "outputs": [],
   "source": [
    "n_trials = 1000\n",
    "K = 10\n",
    "naive = []\n",
    "mine = []\n",
    "mine2 = []\n",
    "for seed in range(500):\n",
    "    bandit = Bandit(2, seed)\n",
    "    naive.append(naive_maximize_reward(bandit, n_trials))\n",
    "    mine.append(my_maximize_reward(bandit, n_trials))\n",
    "\n",
    "sns.distplot(naive) # plt.hist(naive, bins=20)\n",
    "sns.distplot(mine) # plt.hist(mine, bins=20)\n",
    "plt.legend([\"Naive Strategy\", \"My Strategy\"])"
   ]
  },
  {
   "cell_type": "code",
   "execution_count": null,
   "id": "08486777",
   "metadata": {},
   "outputs": [],
   "source": []
  }
 ],
 "metadata": {
  "kernelspec": {
   "display_name": "Python 3",
   "language": "python",
   "name": "python3"
  },
  "language_info": {
   "codemirror_mode": {
    "name": "ipython",
    "version": 3
   },
   "file_extension": ".py",
   "mimetype": "text/x-python",
   "name": "python",
   "nbconvert_exporter": "python",
   "pygments_lexer": "ipython3",
   "version": "3.8.8"
  }
 },
 "nbformat": 4,
 "nbformat_minor": 5
}
